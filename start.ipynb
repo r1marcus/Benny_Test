{
  "nbformat": 4,
  "nbformat_minor": 0,
  "metadata": {
    "colab": {
      "name": "start.ipynb",
      "provenance": [],
      "authorship_tag": "ABX9TyMXGWTNjIAETnlQM+zkVctM",
      "include_colab_link": true
    },
    "kernelspec": {
      "name": "python3",
      "display_name": "Python 3"
    },
    "language_info": {
      "name": "python"
    }
  },
  "cells": [
    {
      "cell_type": "markdown",
      "metadata": {
        "id": "view-in-github",
        "colab_type": "text"
      },
      "source": [
        "<a href=\"https://colab.research.google.com/github/r1marcus/Benny_Test/blob/main/start.ipynb\" target=\"_parent\"><img src=\"https://colab.research.google.com/assets/colab-badge.svg\" alt=\"Open In Colab\"/></a>"
      ]
    },
    {
      "cell_type": "code",
      "metadata": {
        "colab": {
          "base_uri": "https://localhost:8080/"
        },
        "id": "lBdpnN7UiMqC",
        "outputId": "d22c1222-6095-4369-84b6-f226ec92cf9a"
      },
      "source": [
        "!git clone https://github.com/r1marcus/Benny_Test\n",
        "!echo $CWD\n",
        "!cp -rf /content/Benny_Test/* /content/\n",
        "!pip install chatterbot\n",
        "!pip install holmes_extractor\n",
        "!python -m spacy download en\n",
        "!python -m spacy download de_core_news_md"
      ],
      "execution_count": 10,
      "outputs": [
        {
          "output_type": "stream",
          "text": [
            "fatal: destination path 'Benny_Test' already exists and is not an empty directory.\n",
            "\n",
            "Requirement already satisfied: chatterbot in /usr/local/lib/python3.7/dist-packages (1.0.8)\n",
            "Requirement already satisfied: mathparse<0.2,>=0.1 in /usr/local/lib/python3.7/dist-packages (from chatterbot) (0.1.2)\n",
            "Requirement already satisfied: sqlalchemy<1.4,>=1.3 in /usr/local/lib/python3.7/dist-packages (from chatterbot) (1.3.24)\n",
            "Requirement already satisfied: pytz in /usr/local/lib/python3.7/dist-packages (from chatterbot) (2018.9)\n",
            "Requirement already satisfied: python-dateutil<2.9,>=2.8 in /usr/local/lib/python3.7/dist-packages (from chatterbot) (2.8.1)\n",
            "Requirement already satisfied: six>=1.5 in /usr/local/lib/python3.7/dist-packages (from python-dateutil<2.9,>=2.8->chatterbot) (1.15.0)\n",
            "Requirement already satisfied: holmes_extractor in /usr/local/lib/python3.7/dist-packages (2.2.1)\n",
            "Requirement already satisfied: spacy==2.1.0 in /usr/local/lib/python3.7/dist-packages (from holmes_extractor) (2.1.0)\n",
            "Requirement already satisfied: rdflib in /usr/local/lib/python3.7/dist-packages (from holmes_extractor) (6.0.0)\n",
            "Requirement already satisfied: jsonpickle in /usr/local/lib/python3.7/dist-packages (from holmes_extractor) (2.0.0)\n",
            "Requirement already satisfied: falcon in /usr/local/lib/python3.7/dist-packages (from holmes_extractor) (3.0.1)\n",
            "Requirement already satisfied: bs4 in /usr/local/lib/python3.7/dist-packages (from holmes_extractor) (0.0.1)\n",
            "Requirement already satisfied: neuralcoref==4.0.0 in /usr/local/lib/python3.7/dist-packages (from holmes_extractor) (4.0)\n",
            "Requirement already satisfied: sklearn in /usr/local/lib/python3.7/dist-packages (from holmes_extractor) (0.0)\n",
            "Requirement already satisfied: numpy in /usr/local/lib/python3.7/dist-packages (from holmes_extractor) (1.19.5)\n",
            "Requirement already satisfied: scipy in /usr/local/lib/python3.7/dist-packages (from holmes_extractor) (1.4.1)\n",
            "Requirement already satisfied: msgpack-numpy in /usr/local/lib/python3.7/dist-packages (from holmes_extractor) (0.4.7.1)\n",
            "Requirement already satisfied: boto3 in /usr/local/lib/python3.7/dist-packages (from neuralcoref==4.0.0->holmes_extractor) (1.18.9)\n",
            "Requirement already satisfied: requests<3.0.0,>=2.13.0 in /usr/local/lib/python3.7/dist-packages (from neuralcoref==4.0.0->holmes_extractor) (2.23.0)\n",
            "Requirement already satisfied: cymem<2.1.0,>=2.0.2 in /usr/local/lib/python3.7/dist-packages (from spacy==2.1.0->holmes_extractor) (2.0.5)\n",
            "Requirement already satisfied: plac<1.0.0,>=0.9.6 in /usr/local/lib/python3.7/dist-packages (from spacy==2.1.0->holmes_extractor) (0.9.6)\n",
            "Requirement already satisfied: blis<0.3.0,>=0.2.2 in /usr/local/lib/python3.7/dist-packages (from spacy==2.1.0->holmes_extractor) (0.2.4)\n",
            "Requirement already satisfied: jsonschema<3.0.0,>=2.6.0 in /usr/local/lib/python3.7/dist-packages (from spacy==2.1.0->holmes_extractor) (2.6.0)\n",
            "Requirement already satisfied: preshed<2.1.0,>=2.0.1 in /usr/local/lib/python3.7/dist-packages (from spacy==2.1.0->holmes_extractor) (2.0.1)\n",
            "Requirement already satisfied: thinc<7.1.0,>=7.0.2 in /usr/local/lib/python3.7/dist-packages (from spacy==2.1.0->holmes_extractor) (7.0.8)\n",
            "Requirement already satisfied: wasabi<1.1.0,>=0.0.12 in /usr/local/lib/python3.7/dist-packages (from spacy==2.1.0->holmes_extractor) (0.8.2)\n",
            "Requirement already satisfied: murmurhash<1.1.0,>=0.28.0 in /usr/local/lib/python3.7/dist-packages (from spacy==2.1.0->holmes_extractor) (1.0.5)\n",
            "Requirement already satisfied: srsly<1.1.0,>=0.0.5 in /usr/local/lib/python3.7/dist-packages (from spacy==2.1.0->holmes_extractor) (1.0.5)\n",
            "Requirement already satisfied: chardet<4,>=3.0.2 in /usr/local/lib/python3.7/dist-packages (from requests<3.0.0,>=2.13.0->neuralcoref==4.0.0->holmes_extractor) (3.0.4)\n",
            "Requirement already satisfied: certifi>=2017.4.17 in /usr/local/lib/python3.7/dist-packages (from requests<3.0.0,>=2.13.0->neuralcoref==4.0.0->holmes_extractor) (2021.5.30)\n",
            "Requirement already satisfied: idna<3,>=2.5 in /usr/local/lib/python3.7/dist-packages (from requests<3.0.0,>=2.13.0->neuralcoref==4.0.0->holmes_extractor) (2.10)\n",
            "Requirement already satisfied: urllib3!=1.25.0,!=1.25.1,<1.26,>=1.21.1 in /usr/local/lib/python3.7/dist-packages (from requests<3.0.0,>=2.13.0->neuralcoref==4.0.0->holmes_extractor) (1.25.11)\n",
            "Requirement already satisfied: tqdm<5.0.0,>=4.10.0 in /usr/local/lib/python3.7/dist-packages (from thinc<7.1.0,>=7.0.2->spacy==2.1.0->holmes_extractor) (4.41.1)\n",
            "Requirement already satisfied: jmespath<1.0.0,>=0.7.1 in /usr/local/lib/python3.7/dist-packages (from boto3->neuralcoref==4.0.0->holmes_extractor) (0.10.0)\n",
            "Requirement already satisfied: botocore<1.22.0,>=1.21.9 in /usr/local/lib/python3.7/dist-packages (from boto3->neuralcoref==4.0.0->holmes_extractor) (1.21.9)\n",
            "Requirement already satisfied: s3transfer<0.6.0,>=0.5.0 in /usr/local/lib/python3.7/dist-packages (from boto3->neuralcoref==4.0.0->holmes_extractor) (0.5.0)\n",
            "Requirement already satisfied: python-dateutil<3.0.0,>=2.1 in /usr/local/lib/python3.7/dist-packages (from botocore<1.22.0,>=1.21.9->boto3->neuralcoref==4.0.0->holmes_extractor) (2.8.1)\n",
            "Requirement already satisfied: six>=1.5 in /usr/local/lib/python3.7/dist-packages (from python-dateutil<3.0.0,>=2.1->botocore<1.22.0,>=1.21.9->boto3->neuralcoref==4.0.0->holmes_extractor) (1.15.0)\n",
            "Requirement already satisfied: beautifulsoup4 in /usr/local/lib/python3.7/dist-packages (from bs4->holmes_extractor) (4.6.3)\n",
            "Requirement already satisfied: importlib-metadata in /usr/local/lib/python3.7/dist-packages (from jsonpickle->holmes_extractor) (4.6.1)\n",
            "Requirement already satisfied: zipp>=0.5 in /usr/local/lib/python3.7/dist-packages (from importlib-metadata->jsonpickle->holmes_extractor) (3.5.0)\n",
            "Requirement already satisfied: typing-extensions>=3.6.4 in /usr/local/lib/python3.7/dist-packages (from importlib-metadata->jsonpickle->holmes_extractor) (3.7.4.3)\n",
            "Requirement already satisfied: msgpack>=0.5.2 in /usr/local/lib/python3.7/dist-packages (from msgpack-numpy->holmes_extractor) (1.0.2)\n",
            "Requirement already satisfied: pyparsing in /usr/local/lib/python3.7/dist-packages (from rdflib->holmes_extractor) (2.4.7)\n",
            "Requirement already satisfied: setuptools in /usr/local/lib/python3.7/dist-packages (from rdflib->holmes_extractor) (57.2.0)\n",
            "Requirement already satisfied: isodate in /usr/local/lib/python3.7/dist-packages (from rdflib->holmes_extractor) (0.6.0)\n",
            "Requirement already satisfied: scikit-learn in /usr/local/lib/python3.7/dist-packages (from sklearn->holmes_extractor) (0.22.2.post1)\n",
            "Requirement already satisfied: joblib>=0.11 in /usr/local/lib/python3.7/dist-packages (from scikit-learn->sklearn->holmes_extractor) (1.0.1)\n",
            "Collecting en_core_web_sm==2.1.0\n",
            "  Downloading https://github.com/explosion/spacy-models/releases/download/en_core_web_sm-2.1.0/en_core_web_sm-2.1.0.tar.gz (11.1 MB)\n",
            "\u001b[K     |████████████████████████████████| 11.1 MB 5.2 MB/s \n",
            "\u001b[?25h\u001b[38;5;2m✔ Download and installation successful\u001b[0m\n",
            "You can now load the model via spacy.load('en_core_web_sm')\n",
            "\u001b[38;5;2m✔ Linking successful\u001b[0m\n",
            "/usr/local/lib/python3.7/dist-packages/en_core_web_sm -->\n",
            "/usr/local/lib/python3.7/dist-packages/spacy/data/en\n",
            "You can now load the model via spacy.load('en')\n",
            "Collecting de_core_news_md==2.1.0\n",
            "  Downloading https://github.com/explosion/spacy-models/releases/download/de_core_news_md-2.1.0/de_core_news_md-2.1.0.tar.gz (220.8 MB)\n",
            "\u001b[K     |████████████████████████████████| 220.8 MB 1.2 MB/s \n",
            "\u001b[?25hBuilding wheels for collected packages: de-core-news-md\n",
            "  Building wheel for de-core-news-md (setup.py) ... \u001b[?25l\u001b[?25hdone\n",
            "  Created wheel for de-core-news-md: filename=de_core_news_md-2.1.0-py3-none-any.whl size=224546877 sha256=7ec4138010e78e7f4f4169757dafd17df56743abce300e0c58002801b605d14b\n",
            "  Stored in directory: /tmp/pip-ephem-wheel-cache-7fzu6xed/wheels/86/71/bf/dc62ebe2fcd0724742805a76fae525d90146926eadec4c9add\n",
            "Successfully built de-core-news-md\n",
            "Installing collected packages: de-core-news-md\n",
            "Successfully installed de-core-news-md-2.1.0\n",
            "\u001b[38;5;2m✔ Download and installation successful\u001b[0m\n",
            "You can now load the model via spacy.load('de_core_news_md')\n"
          ],
          "name": "stdout"
        }
      ]
    },
    {
      "cell_type": "code",
      "metadata": {
        "colab": {
          "base_uri": "https://localhost:8080/"
        },
        "id": "SEDRhxcMibiN",
        "outputId": "fb5af12a-abdb-4efd-d162-326cdad1bfcf"
      },
      "source": [
        "from chatterbot import ChatBot\n",
        "import tkinter as tk\n",
        "try:\n",
        "    import ttk as ttk\n",
        "    import ScrolledText\n",
        "except ImportError:\n",
        "    import tkinter.ttk as ttk\n",
        "    import tkinter.scrolledtext as ScrolledText\n",
        "import time\n",
        "from chatterbot.trainers import ChatterBotCorpusTrainer\n",
        "from Antwort_aus_txt import Antwort_aus_txt as txt_antw\n",
        "import webbrowser\n",
        "import os\n",
        "\n",
        "PATH = './db.sqlite3'\n",
        "chatbot_gelernt = False\n",
        "print('1')\n",
        "\"\"\"Erzeugen des ChatBots\"\"\"\n",
        "chatbot = ChatBot(\n",
        "  \"TestBot\",\n",
        "  storage_adapter=\"chatterbot.storage.SQLStorageAdapter\",\n",
        "  logic_adapters=[\n",
        "  {'import_path': 'chatterbot.logic.BestMatch',\n",
        "  'default_response': 'Entschuldige das habe ich nicht verstanden.',\n",
        "  'maximum_similarity_threshold': 0.80},\n",
        "  {'import_path':'chatterbot.logic.MathematicalEvaluation',}]\n",
        "  )\n",
        "print('1')\n",
        "\"\"\"Trainieren des ChatBots mit Datenbanken\"\"\"\n",
        "if chatbot_gelernt==False:\n",
        "  trainer = ChatterBotCorpusTrainer(chatbot)\n",
        "  trainer.train(\"./Begruessung.json\")\n",
        "  trainer.train(\"./smalltalk.json\")\n",
        "  trainer.train(\"./verabschiedung.json\")\n",
        "  trainer.train(\"./EssenTrinken.json\")\n",
        "print('1')\n",
        "\"\"\"Einlesen der txt-Datei\"\"\"\n",
        "#Beispiel_txt = txt_antw(\"Tuttlingen.txt\")\n",
        "print('1')\n",
        "#Beispiel_txt.lade_datei()\n",
        "\n",
        "\n",
        "\n",
        "\n",
        "\n",
        "\n",
        "def get_response(input):\n",
        "    \n",
        "    \"\"\"Antwort erhalten und auf der Oberfläche ausgeben\"\"\"\n",
        "    user_input = input\n",
        "    if user_input==\"Öffne mir den Webbrowser\":\n",
        "        url = 'https://www.google.de/?q='\n",
        "        webbrowser.get('windows-default').open(url)\n",
        "        response=\"Webbrwoser wird geöffnet\"\n",
        "    else:\n",
        "        response = chatbot.get_response(user_input)\n",
        "\n",
        "    print(response)    "
      ],
      "execution_count": 19,
      "outputs": [
        {
          "output_type": "stream",
          "text": [
            "1\n",
            "1\n",
            "Training Begruessung.json: [####################] 100%\n",
            "Training smalltalk.json: [####################] 100%\n",
            "Training verabschiedung.json: [####################] 100%\n",
            "Training EssenTrinken.json: [####################] 100%\n",
            "1\n",
            "1\n"
          ],
          "name": "stdout"
        }
      ]
    },
    {
      "cell_type": "code",
      "metadata": {
        "colab": {
          "base_uri": "https://localhost:8080/"
        },
        "id": "9_8DRUJlibor",
        "outputId": "f7612511-f41d-4cb8-a280-2a5e9f60c504"
      },
      "source": [
        "get_response(\"was kostet der alleskönner\")"
      ],
      "execution_count": 20,
      "outputs": [
        {
          "output_type": "stream",
          "text": [
            "Der ALLESKÖNNER 5 l kostet 108 Euro\n"
          ],
          "name": "stdout"
        }
      ]
    }
  ]
}